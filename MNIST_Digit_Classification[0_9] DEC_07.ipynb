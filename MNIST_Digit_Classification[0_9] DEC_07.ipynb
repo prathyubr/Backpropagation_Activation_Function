{
  "nbformat": 4,
  "nbformat_minor": 0,
  "metadata": {
    "colab": {
      "name": "MNIST - Digit Classification[0-9].ipynb",
      "provenance": []
    },
    "kernelspec": {
      "name": "python3",
      "display_name": "Python 3"
    },
    "language_info": {
      "name": "python"
    },
    "accelerator": "GPU"
  },
  "cells": [
    {
      "cell_type": "markdown",
      "metadata": {
        "id": "G_CoTr5smJn8"
      },
      "source": [
        "## **1. Import Necessary libraries**"
      ]
    },
    {
      "cell_type": "code",
      "metadata": {
        "id": "BkRkHSdFl-vw"
      },
      "source": [
        "import tensorflow as tf"
      ],
      "execution_count": 1,
      "outputs": []
    },
    {
      "cell_type": "markdown",
      "metadata": {
        "id": "z649PlAYmTTj"
      },
      "source": [
        "## **2. Import Dataset**"
      ]
    },
    {
      "cell_type": "code",
      "metadata": {
        "id": "B4-gBI6gmP3D"
      },
      "source": [
        "(X_train,y_train),(X_test,y_test) = tf.keras.datasets.mnist.load_data(path=\"mnist.npz\")"
      ],
      "execution_count": 4,
      "outputs": []
    },
    {
      "cell_type": "markdown",
      "metadata": {
        "id": "Ud52x3fUm8F-"
      },
      "source": [
        "## **3. Data Understanding**"
      ]
    },
    {
      "cell_type": "code",
      "metadata": {
        "colab": {
          "base_uri": "https://localhost:8080/"
        },
        "id": "bgVKUWbomnUm",
        "outputId": "68d59ad9-48e9-4fee-cf8c-f9b17e22ae7a"
      },
      "source": [
        "X_train.shape,y_train.shape"
      ],
      "execution_count": 5,
      "outputs": [
        {
          "output_type": "execute_result",
          "data": {
            "text/plain": [
              "((60000, 28, 28), (60000,))"
            ]
          },
          "metadata": {},
          "execution_count": 5
        }
      ]
    },
    {
      "cell_type": "code",
      "metadata": {
        "colab": {
          "base_uri": "https://localhost:8080/"
        },
        "id": "o2AW78wrnBww",
        "outputId": "06f06831-6e2f-4fee-bdda-ff3385b33800"
      },
      "source": [
        "y_train"
      ],
      "execution_count": 7,
      "outputs": [
        {
          "output_type": "execute_result",
          "data": {
            "text/plain": [
              "array([5, 0, 4, ..., 5, 6, 8], dtype=uint8)"
            ]
          },
          "metadata": {},
          "execution_count": 7
        }
      ]
    },
    {
      "cell_type": "code",
      "metadata": {
        "colab": {
          "base_uri": "https://localhost:8080/"
        },
        "id": "4FaHiIkGnHN-",
        "outputId": "ba0540cc-646a-4388-a5de-7faf2316b34e"
      },
      "source": [
        "X_train[0]"
      ],
      "execution_count": 9,
      "outputs": [
        {
          "output_type": "execute_result",
          "data": {
            "text/plain": [
              "array([[  0,   0,   0,   0,   0,   0,   0,   0,   0,   0,   0,   0,   0,\n",
              "          0,   0,   0,   0,   0,   0,   0,   0,   0,   0,   0,   0,   0,\n",
              "          0,   0],\n",
              "       [  0,   0,   0,   0,   0,   0,   0,   0,   0,   0,   0,   0,   0,\n",
              "          0,   0,   0,   0,   0,   0,   0,   0,   0,   0,   0,   0,   0,\n",
              "          0,   0],\n",
              "       [  0,   0,   0,   0,   0,   0,   0,   0,   0,   0,   0,   0,   0,\n",
              "          0,   0,   0,   0,   0,   0,   0,   0,   0,   0,   0,   0,   0,\n",
              "          0,   0],\n",
              "       [  0,   0,   0,   0,   0,   0,   0,   0,   0,   0,   0,   0,   0,\n",
              "          0,   0,   0,   0,   0,   0,   0,   0,   0,   0,   0,   0,   0,\n",
              "          0,   0],\n",
              "       [  0,   0,   0,   0,   0,   0,   0,   0,   0,   0,   0,   0,   0,\n",
              "          0,   0,   0,   0,   0,   0,   0,   0,   0,   0,   0,   0,   0,\n",
              "          0,   0],\n",
              "       [  0,   0,   0,   0,   0,   0,   0,   0,   0,   0,   0,   0,   3,\n",
              "         18,  18,  18, 126, 136, 175,  26, 166, 255, 247, 127,   0,   0,\n",
              "          0,   0],\n",
              "       [  0,   0,   0,   0,   0,   0,   0,   0,  30,  36,  94, 154, 170,\n",
              "        253, 253, 253, 253, 253, 225, 172, 253, 242, 195,  64,   0,   0,\n",
              "          0,   0],\n",
              "       [  0,   0,   0,   0,   0,   0,   0,  49, 238, 253, 253, 253, 253,\n",
              "        253, 253, 253, 253, 251,  93,  82,  82,  56,  39,   0,   0,   0,\n",
              "          0,   0],\n",
              "       [  0,   0,   0,   0,   0,   0,   0,  18, 219, 253, 253, 253, 253,\n",
              "        253, 198, 182, 247, 241,   0,   0,   0,   0,   0,   0,   0,   0,\n",
              "          0,   0],\n",
              "       [  0,   0,   0,   0,   0,   0,   0,   0,  80, 156, 107, 253, 253,\n",
              "        205,  11,   0,  43, 154,   0,   0,   0,   0,   0,   0,   0,   0,\n",
              "          0,   0],\n",
              "       [  0,   0,   0,   0,   0,   0,   0,   0,   0,  14,   1, 154, 253,\n",
              "         90,   0,   0,   0,   0,   0,   0,   0,   0,   0,   0,   0,   0,\n",
              "          0,   0],\n",
              "       [  0,   0,   0,   0,   0,   0,   0,   0,   0,   0,   0, 139, 253,\n",
              "        190,   2,   0,   0,   0,   0,   0,   0,   0,   0,   0,   0,   0,\n",
              "          0,   0],\n",
              "       [  0,   0,   0,   0,   0,   0,   0,   0,   0,   0,   0,  11, 190,\n",
              "        253,  70,   0,   0,   0,   0,   0,   0,   0,   0,   0,   0,   0,\n",
              "          0,   0],\n",
              "       [  0,   0,   0,   0,   0,   0,   0,   0,   0,   0,   0,   0,  35,\n",
              "        241, 225, 160, 108,   1,   0,   0,   0,   0,   0,   0,   0,   0,\n",
              "          0,   0],\n",
              "       [  0,   0,   0,   0,   0,   0,   0,   0,   0,   0,   0,   0,   0,\n",
              "         81, 240, 253, 253, 119,  25,   0,   0,   0,   0,   0,   0,   0,\n",
              "          0,   0],\n",
              "       [  0,   0,   0,   0,   0,   0,   0,   0,   0,   0,   0,   0,   0,\n",
              "          0,  45, 186, 253, 253, 150,  27,   0,   0,   0,   0,   0,   0,\n",
              "          0,   0],\n",
              "       [  0,   0,   0,   0,   0,   0,   0,   0,   0,   0,   0,   0,   0,\n",
              "          0,   0,  16,  93, 252, 253, 187,   0,   0,   0,   0,   0,   0,\n",
              "          0,   0],\n",
              "       [  0,   0,   0,   0,   0,   0,   0,   0,   0,   0,   0,   0,   0,\n",
              "          0,   0,   0,   0, 249, 253, 249,  64,   0,   0,   0,   0,   0,\n",
              "          0,   0],\n",
              "       [  0,   0,   0,   0,   0,   0,   0,   0,   0,   0,   0,   0,   0,\n",
              "          0,  46, 130, 183, 253, 253, 207,   2,   0,   0,   0,   0,   0,\n",
              "          0,   0],\n",
              "       [  0,   0,   0,   0,   0,   0,   0,   0,   0,   0,   0,   0,  39,\n",
              "        148, 229, 253, 253, 253, 250, 182,   0,   0,   0,   0,   0,   0,\n",
              "          0,   0],\n",
              "       [  0,   0,   0,   0,   0,   0,   0,   0,   0,   0,  24, 114, 221,\n",
              "        253, 253, 253, 253, 201,  78,   0,   0,   0,   0,   0,   0,   0,\n",
              "          0,   0],\n",
              "       [  0,   0,   0,   0,   0,   0,   0,   0,  23,  66, 213, 253, 253,\n",
              "        253, 253, 198,  81,   2,   0,   0,   0,   0,   0,   0,   0,   0,\n",
              "          0,   0],\n",
              "       [  0,   0,   0,   0,   0,   0,  18, 171, 219, 253, 253, 253, 253,\n",
              "        195,  80,   9,   0,   0,   0,   0,   0,   0,   0,   0,   0,   0,\n",
              "          0,   0],\n",
              "       [  0,   0,   0,   0,  55, 172, 226, 253, 253, 253, 253, 244, 133,\n",
              "         11,   0,   0,   0,   0,   0,   0,   0,   0,   0,   0,   0,   0,\n",
              "          0,   0],\n",
              "       [  0,   0,   0,   0, 136, 253, 253, 253, 212, 135, 132,  16,   0,\n",
              "          0,   0,   0,   0,   0,   0,   0,   0,   0,   0,   0,   0,   0,\n",
              "          0,   0],\n",
              "       [  0,   0,   0,   0,   0,   0,   0,   0,   0,   0,   0,   0,   0,\n",
              "          0,   0,   0,   0,   0,   0,   0,   0,   0,   0,   0,   0,   0,\n",
              "          0,   0],\n",
              "       [  0,   0,   0,   0,   0,   0,   0,   0,   0,   0,   0,   0,   0,\n",
              "          0,   0,   0,   0,   0,   0,   0,   0,   0,   0,   0,   0,   0,\n",
              "          0,   0],\n",
              "       [  0,   0,   0,   0,   0,   0,   0,   0,   0,   0,   0,   0,   0,\n",
              "          0,   0,   0,   0,   0,   0,   0,   0,   0,   0,   0,   0,   0,\n",
              "          0,   0]], dtype=uint8)"
            ]
          },
          "metadata": {},
          "execution_count": 9
        }
      ]
    },
    {
      "cell_type": "code",
      "metadata": {
        "colab": {
          "base_uri": "https://localhost:8080/",
          "height": 282
        },
        "id": "70rXscuLnLlH",
        "outputId": "1c9985a6-0997-4be0-9594-e194ec3ca9fa"
      },
      "source": [
        "from matplotlib import pyplot as plt\n",
        "plt.imshow(X = X_train[0], cmap='gray')"
      ],
      "execution_count": 13,
      "outputs": [
        {
          "output_type": "execute_result",
          "data": {
            "text/plain": [
              "<matplotlib.image.AxesImage at 0x7fde133b8a50>"
            ]
          },
          "metadata": {},
          "execution_count": 13
        },
        {
          "output_type": "display_data",
          "data": {
            "image/png": "[encoded data removed]",
            "text/plain": [
              "<Figure size 432x288 with 1 Axes>"
            ]
          },
          "metadata": {
            "needs_background": "light"
          }
        }
      ]
    },
    {
      "cell_type": "code",
      "metadata": {
        "colab": {
          "base_uri": "https://localhost:8080/",
          "height": 282
        },
        "id": "7dsQVc-GndEr",
        "outputId": "5c363f4c-60ae-4183-ca98-fdf60b591eda"
      },
      "source": [
        "plt.imshow(X = X_train[1], cmap='gray')"
      ],
      "execution_count": 14,
      "outputs": [
        {
          "output_type": "execute_result",
          "data": {
            "text/plain": [
              "<matplotlib.image.AxesImage at 0x7fde13320f90>"
            ]
          },
          "metadata": {},
          "execution_count": 14
        },
        {
          "output_type": "display_data",
          "data": {
            "image/png": "[encoded data removed]",
            "text/plain": [
              "<Figure size 432x288 with 1 Axes>"
            ]
          },
          "metadata": {
            "needs_background": "light"
          }
        }
      ]
    },
    {
      "cell_type": "code",
      "metadata": {
        "colab": {
          "base_uri": "https://localhost:8080/",
          "height": 282
        },
        "id": "A5mbGGFooCVw",
        "outputId": "811a8b8f-b8b0-4bfe-9e21-e02a7c2dc9b1"
      },
      "source": [
        "plt.imshow(X = X_train[200], cmap='gray')"
      ],
      "execution_count": 15,
      "outputs": [
        {
          "output_type": "execute_result",
          "data": {
            "text/plain": [
              "<matplotlib.image.AxesImage at 0x7fde13293510>"
            ]
          },
          "metadata": {},
          "execution_count": 15
        },
        {
          "output_type": "display_data",
          "data": {
            "image/png": "[encoded data removed]",
            "text/plain": [
              "<Figure size 432x288 with 1 Axes>"
            ]
          },
          "metadata": {
            "needs_background": "light"
          }
        }
      ]
    },
    {
      "cell_type": "code",
      "metadata": {
        "colab": {
          "base_uri": "https://localhost:8080/"
        },
        "id": "5F9ywL8zoIx7",
        "outputId": "5a7a59a4-a971-498c-b8e1-f9a030e3d03f"
      },
      "source": [
        "y_train[200]"
      ],
      "execution_count": 16,
      "outputs": [
        {
          "output_type": "execute_result",
          "data": {
            "text/plain": [
              "1"
            ]
          },
          "metadata": {},
          "execution_count": 16
        }
      ]
    },
    {
      "cell_type": "markdown",
      "metadata": {
        "id": "76TW1wV8ot_P"
      },
      "source": [
        "## **4. Data Preparation**"
      ]
    },
    {
      "cell_type": "code",
      "metadata": {
        "colab": {
          "base_uri": "https://localhost:8080/"
        },
        "id": "B5J3A9i4oMce",
        "outputId": "5e552592-9251-41b5-c82a-080b19a83f4c"
      },
      "source": [
        "X_train.std()"
      ],
      "execution_count": 17,
      "outputs": [
        {
          "output_type": "execute_result",
          "data": {
            "text/plain": [
              "78.56748998339798"
            ]
          },
          "metadata": {},
          "execution_count": 17
        }
      ]
    },
    {
      "cell_type": "code",
      "metadata": {
        "colab": {
          "base_uri": "https://localhost:8080/"
        },
        "id": "dyNprP8Uo0h6",
        "outputId": "edd80bd1-9354-4ebc-c532-f43384394235"
      },
      "source": [
        "X_test.std()"
      ],
      "execution_count": 18,
      "outputs": [
        {
          "output_type": "execute_result",
          "data": {
            "text/plain": [
              "79.17246322228644"
            ]
          },
          "metadata": {},
          "execution_count": 18
        }
      ]
    },
    {
      "cell_type": "code",
      "metadata": {
        "colab": {
          "base_uri": "https://localhost:8080/"
        },
        "id": "XIeVWOOho3HK",
        "outputId": "7a8d8d61-5bbe-4583-93a3-0ad75d42b0ba"
      },
      "source": [
        "X_train[500]"
      ],
      "execution_count": 19,
      "outputs": [
        {
          "output_type": "execute_result",
          "data": {
            "text/plain": [
              "array([[  0,   0,   0,   0,   0,   0,   0,   0,   0,   0,   0,   0,   0,\n",
              "          0,   0,   0,   0,   0,   0,   0,   0,   0,   0,   0,   0,   0,\n",
              "          0,   0],\n",
              "       [  0,   0,   0,   0,   0,   0,   0,   0,   0,   0,   0,   0,   0,\n",
              "          0,   0,   0,   0,   0,   0,   0,   0,   0,   0,   0,   0,   0,\n",
              "          0,   0],\n",
              "       [  0,   0,   0,   0,   0,   0,   0,   0,   0,   0,   0,   0,   0,\n",
              "          0,   0,   0,   0,   0,   0,   0,   0,   0,   0,   0,   0,   0,\n",
              "          0,   0],\n",
              "       [  0,   0,   0,   0,   0,   0,   0,   0,   0,   0,   0,   0,   0,\n",
              "          0,   0,   0,   0,   0,   0,   0,   0,   0,   0,   0,   0,   0,\n",
              "          0,   0],\n",
              "       [  0,   0,   0,   0,   0,   0,   0,   0,   0,   0,   0,   0,   0,\n",
              "          0,   0,   0,   0,   0,   0,   0,   0,   0,   0,   0,   0,   0,\n",
              "          0,   0],\n",
              "       [  0,   0,   0,   0,   0,   0,   0,   0,   0,   0,   0,   0,   0,\n",
              "          0,   0,   0,   0,   0,   0,   0,   0,   0,   0,   0,   0,   0,\n",
              "          0,   0],\n",
              "       [  0,   0,   0,   0,   0,  38, 191, 138,  24,  24, 108, 138,  34,\n",
              "          0,   0,   0,   0,   0,   0,   0,   0,   0,   0,   0,   0,   0,\n",
              "          0,   0],\n",
              "       [  0,   0,   0,   0,   0,  70, 252, 252, 253, 252, 252, 252, 252,\n",
              "        162,  88,  13,   0,   0,   0,   0,   0,   0,   0,   0,   0,   0,\n",
              "          0,   0],\n",
              "       [  0,   0,   0,   0,   0,  51, 240, 252, 253, 240, 183, 183, 246,\n",
              "        253, 252, 202, 142,   7,   0,   0,   0,   0,   0,   0,   0,   0,\n",
              "          0,   0],\n",
              "       [  0,   0,   0,   0,   0,   0,  37,  98, 211, 206,   0,   0,  42,\n",
              "        109, 177, 252, 252, 211,  43,   0,   0,   0,   0,   0,   0,   0,\n",
              "          0,   0],\n",
              "       [  0,   0,   0,   0,   0,   0,   0,   0,  13,  18,   0,   0,   0,\n",
              "          0,   5,  54, 179, 252, 220,   0,   0,   0,   0,   0,   0,   0,\n",
              "          0,   0],\n",
              "       [  0,   0,   0,   0,   0,   0,   0,   0,   0,   0,   0,   0,   0,\n",
              "          0,   0,   0,  43, 241, 255,  92,   0,   0,   0,   0,   0,   0,\n",
              "          0,   0],\n",
              "       [  0,   0,   0,   0,   0,   0,   0,   0,   0,   0,   0,   0,   0,\n",
              "          0,   0,   0,   0, 230, 253,  92,   0,   0,   0,   0,   0,   0,\n",
              "          0,   0],\n",
              "       [  0,   0,   0,   0,   0,   0,   0,   0,   0,   0,   0,   0,   0,\n",
              "          0,   0,   0,  68, 246, 247,  67,   0,   0,   0,   0,   0,   0,\n",
              "          0,   0],\n",
              "       [  0,   0,   0,   0,   0,   0,   0,   0,   0,   0,   0,   0,   0,\n",
              "          0,   0,   0, 134, 252,  94,   0,   0,   0,   0,   0,   0,   0,\n",
              "          0,   0],\n",
              "       [  0,   0,   0,   0,   0,   0,   0,   0,   0,   0,   0,   0,   0,\n",
              "          0,   0, 116, 248, 200,   0,   0,   0,   0,   0,   0,   0,   0,\n",
              "          0,   0],\n",
              "       [  0,   0,   0,   0,   0,   0,   0,   0,   0,   0,   0,   0,   0,\n",
              "         13,  97, 222, 192,  11,   0,   0,   0,   0,   0,   0,   0,   0,\n",
              "          0,   0],\n",
              "       [  0,   0,   0,   0,   0,   0,   0,   0,   0,   0,   0,  38,  99,\n",
              "        208, 227, 174,  17,   0,   0,   0,   0,   0,   0,   0,   0,   0,\n",
              "          0,   0],\n",
              "       [  0,   0,   0,   0,   0,   0,   0,   0,   0,   0,   0, 207, 252,\n",
              "        237,  88,   0,   0,   0,   0,   0,   0,   0,   0,   0,   0,   0,\n",
              "          0,   0],\n",
              "       [  0,   0,   0,   0,   0,   0,   0,   0,   0,   0,   0,  80, 202,\n",
              "        253, 244, 207,  80,   0,   0,   0,   0,   0,   0,   0,   0,   0,\n",
              "          0,   0],\n",
              "       [  0,   0,   0,   0,   0,   0,   0,   0,   0,   0,   0,   0,  11,\n",
              "         96, 252, 252, 244,  73,   0,   0,   0,   0,   0,   0,   0,   0,\n",
              "          0,   0],\n",
              "       [  0,   0,   0,   0,   0,   0,   0,   0,   0,   0,   0,   0,   0,\n",
              "          0,  22, 199, 249, 253, 128,   9,   0,   0,   0,   0,   0,   0,\n",
              "          0,   0],\n",
              "       [  0,   0,   0,   0,   0,   0,   0,   0,   0,   0,   0,   0,   0,\n",
              "          0,   0,   0, 118, 248, 253, 113,   0,   0,   0,   0,   0,   0,\n",
              "          0,   0],\n",
              "       [  0,   0,   0,   0,   0,   0,   0,   0,   0,   0,   0,   0,   0,\n",
              "          0,   0,   0,   0, 115, 253, 240,  50,   0,   0,   0,   0,   0,\n",
              "          0,   0],\n",
              "       [  0,   0,   0,   0,   0,   0,   0,   0,   0,   0,   0,   0,   0,\n",
              "          0,   0,   0,   0,   0, 253, 252,  69,   0,   0,   0,   0,   0,\n",
              "          0,   0],\n",
              "       [  0,   0,   0,   0,   0,   0,   0,   0,   0,   0,   0,   0,   0,\n",
              "          0,   0,   0,   0,   0, 253, 231,  37,   0,   0,   0,   0,   0,\n",
              "          0,   0],\n",
              "       [  0,   0,   0,   0,   0,   0,   0,   0,   0,   0,   0,   0,   0,\n",
              "          0,   0,   0,   0,   0,   0,   0,   0,   0,   0,   0,   0,   0,\n",
              "          0,   0],\n",
              "       [  0,   0,   0,   0,   0,   0,   0,   0,   0,   0,   0,   0,   0,\n",
              "          0,   0,   0,   0,   0,   0,   0,   0,   0,   0,   0,   0,   0,\n",
              "          0,   0]], dtype=uint8)"
            ]
          },
          "metadata": {},
          "execution_count": 19
        }
      ]
    },
    {
      "cell_type": "code",
      "metadata": {
        "id": "lu1wHayso8Dc"
      },
      "source": [
        "X_train = X_train/255\n",
        "X_test = X_test/255"
      ],
      "execution_count": 20,
      "outputs": []
    },
    {
      "cell_type": "code",
      "metadata": {
        "colab": {
          "base_uri": "https://localhost:8080/"
        },
        "id": "UQ1rJz0rpbzW",
        "outputId": "b5d6add0-ab10-4779-8834-a565fd72173a"
      },
      "source": [
        "X_train.std()"
      ],
      "execution_count": 21,
      "outputs": [
        {
          "output_type": "execute_result",
          "data": {
            "text/plain": [
              "0.3081078038564622"
            ]
          },
          "metadata": {},
          "execution_count": 21
        }
      ]
    },
    {
      "cell_type": "code",
      "metadata": {
        "colab": {
          "base_uri": "https://localhost:8080/"
        },
        "id": "0qquDAvSpeTx",
        "outputId": "d19ebfaa-55fd-4c6c-e2ea-255b92ccd666"
      },
      "source": [
        "X_test.std()"
      ],
      "execution_count": 22,
      "outputs": [
        {
          "output_type": "execute_result",
          "data": {
            "text/plain": [
              "0.3104802479305348"
            ]
          },
          "metadata": {},
          "execution_count": 22
        }
      ]
    },
    {
      "cell_type": "markdown",
      "metadata": {
        "id": "5E1YTlnPpmI6"
      },
      "source": [
        "## **5. Model Building**"
      ]
    },
    {
      "cell_type": "code",
      "metadata": {
        "id": "aG6sanZvpghn"
      },
      "source": [
        "from tensorflow.keras.models import Sequential\n",
        "from tensorflow.keras.layers import Dense,Flatten"
      ],
      "execution_count": 26,
      "outputs": []
    },
    {
      "cell_type": "markdown",
      "metadata": {
        "id": "DRH9zqxRqVYc"
      },
      "source": [
        "### **Step 1: Build the architecture**"
      ]
    },
    {
      "cell_type": "code",
      "metadata": {
        "colab": {
          "base_uri": "https://localhost:8080/"
        },
        "id": "EWyy2OXip1uO",
        "outputId": "5ebb688f-6c6d-4fce-e0f1-b794e472adcf"
      },
      "source": [
        "model = Sequential()\n",
        "model.add(Flatten(input_shape=(28,28)))\n",
        "model.add(Dense(units = 50, activation='relu')) #H1\n",
        "model.add(Dense(units = 10, activation='softmax')) #Output layer\n",
        "model.summary()"
      ],
      "execution_count": 30,
      "outputs": [
        {
          "output_type": "stream",
          "name": "stdout",
          "text": [
            "Model: \"sequential_3\"\n",
            "_________________________________________________________________\n",
            " Layer (type)                Output Shape              Param #   \n",
            "=================================================================\n",
            " flatten_1 (Flatten)         (None, 784)               0         \n",
            "                                                                 \n",
            " dense (Dense)               (None, 50)                39250     \n",
            "                                                                 \n",
            " dense_1 (Dense)             (None, 10)                510       \n",
            "                                                                 \n",
            "=================================================================\n",
            "Total params: 39,760\n",
            "Trainable params: 39,760\n",
            "Non-trainable params: 0\n",
            "_________________________________________________________________\n"
          ]
        }
      ]
    },
    {
      "cell_type": "markdown",
      "metadata": {
        "id": "g4aTqnH-srnm"
      },
      "source": [
        "## **Step 2 : Compile your architecture**"
      ]
    },
    {
      "cell_type": "code",
      "metadata": {
        "id": "15yWt-xMqOoU"
      },
      "source": [
        "model.compile(optimizer='rmsprop', loss='sparse_categorical_crossentropy', metrics='accuracy')"
      ],
      "execution_count": 33,
      "outputs": []
    },
    {
      "cell_type": "markdown",
      "metadata": {
        "id": "GAgEUtx1traE"
      },
      "source": [
        "## **Step 3: Train your model**"
      ]
    },
    {
      "cell_type": "code",
      "metadata": {
        "colab": {
          "base_uri": "https://localhost:8080/"
        },
        "id": "41LYuYXhtqLA",
        "outputId": "5b0d97fc-4604-40e3-b6cd-3648f6565321"
      },
      "source": [
        "model.fit(x=X_train, y=y_train, batch_size=100, epochs=50,validation_split=0.20)"
      ],
      "execution_count": 34,
      "outputs": [
        {
          "output_type": "stream",
          "name": "stdout",
          "text": [
            "Epoch 1/50\n",
            "480/480 [==============================] - 4s 4ms/step - loss: 0.4334 - accuracy: 0.8824 - val_loss: 0.2534 - val_accuracy: 0.9279\n",
            "Epoch 2/50\n",
            "480/480 [==============================] - 2s 4ms/step - loss: 0.2295 - accuracy: 0.9338 - val_loss: 0.1940 - val_accuracy: 0.9445\n",
            "Epoch 3/50\n",
            "480/480 [==============================] - 2s 4ms/step - loss: 0.1816 - accuracy: 0.9478 - val_loss: 0.1709 - val_accuracy: 0.9515\n",
            "Epoch 4/50\n",
            "480/480 [==============================] - 2s 4ms/step - loss: 0.1510 - accuracy: 0.9564 - val_loss: 0.1530 - val_accuracy: 0.9548\n",
            "Epoch 5/50\n",
            "480/480 [==============================] - 2s 4ms/step - loss: 0.1306 - accuracy: 0.9631 - val_loss: 0.1399 - val_accuracy: 0.9602\n",
            "Epoch 6/50\n",
            "480/480 [==============================] - 2s 4ms/step - loss: 0.1149 - accuracy: 0.9673 - val_loss: 0.1378 - val_accuracy: 0.9592\n",
            "Epoch 7/50\n",
            "480/480 [==============================] - 2s 4ms/step - loss: 0.1022 - accuracy: 0.9708 - val_loss: 0.1269 - val_accuracy: 0.9627\n",
            "Epoch 8/50\n",
            "480/480 [==============================] - 2s 4ms/step - loss: 0.0924 - accuracy: 0.9729 - val_loss: 0.1268 - val_accuracy: 0.9632\n",
            "Epoch 9/50\n",
            "480/480 [==============================] - 2s 4ms/step - loss: 0.0844 - accuracy: 0.9756 - val_loss: 0.1205 - val_accuracy: 0.9634\n",
            "Epoch 10/50\n",
            "480/480 [==============================] - 2s 4ms/step - loss: 0.0778 - accuracy: 0.9780 - val_loss: 0.1203 - val_accuracy: 0.9643\n",
            "Epoch 11/50\n",
            "480/480 [==============================] - 2s 4ms/step - loss: 0.0721 - accuracy: 0.9790 - val_loss: 0.1171 - val_accuracy: 0.9663\n",
            "Epoch 12/50\n",
            "480/480 [==============================] - 2s 4ms/step - loss: 0.0666 - accuracy: 0.9807 - val_loss: 0.1174 - val_accuracy: 0.9671\n",
            "Epoch 13/50\n",
            "480/480 [==============================] - 2s 4ms/step - loss: 0.0622 - accuracy: 0.9826 - val_loss: 0.1160 - val_accuracy: 0.9668\n",
            "Epoch 14/50\n",
            "480/480 [==============================] - 2s 4ms/step - loss: 0.0580 - accuracy: 0.9836 - val_loss: 0.1157 - val_accuracy: 0.9663\n",
            "Epoch 15/50\n",
            "480/480 [==============================] - 2s 4ms/step - loss: 0.0544 - accuracy: 0.9845 - val_loss: 0.1196 - val_accuracy: 0.9661\n",
            "Epoch 16/50\n",
            "480/480 [==============================] - 2s 4ms/step - loss: 0.0510 - accuracy: 0.9858 - val_loss: 0.1197 - val_accuracy: 0.9663\n",
            "Epoch 17/50\n",
            "480/480 [==============================] - 2s 4ms/step - loss: 0.0483 - accuracy: 0.9862 - val_loss: 0.1164 - val_accuracy: 0.9667\n",
            "Epoch 18/50\n",
            "480/480 [==============================] - 2s 4ms/step - loss: 0.0456 - accuracy: 0.9874 - val_loss: 0.1192 - val_accuracy: 0.9671\n",
            "Epoch 19/50\n",
            "480/480 [==============================] - 2s 4ms/step - loss: 0.0428 - accuracy: 0.9887 - val_loss: 0.1199 - val_accuracy: 0.9674\n",
            "Epoch 20/50\n",
            "480/480 [==============================] - 2s 4ms/step - loss: 0.0403 - accuracy: 0.9892 - val_loss: 0.1242 - val_accuracy: 0.9665\n",
            "Epoch 21/50\n",
            "480/480 [==============================] - 2s 4ms/step - loss: 0.0380 - accuracy: 0.9894 - val_loss: 0.1231 - val_accuracy: 0.9675\n",
            "Epoch 22/50\n",
            "480/480 [==============================] - 2s 4ms/step - loss: 0.0367 - accuracy: 0.9902 - val_loss: 0.1230 - val_accuracy: 0.9671\n",
            "Epoch 23/50\n",
            "480/480 [==============================] - 2s 4ms/step - loss: 0.0341 - accuracy: 0.9911 - val_loss: 0.1237 - val_accuracy: 0.9681\n",
            "Epoch 24/50\n",
            "480/480 [==============================] - 2s 4ms/step - loss: 0.0323 - accuracy: 0.9916 - val_loss: 0.1189 - val_accuracy: 0.9673\n",
            "Epoch 25/50\n",
            "480/480 [==============================] - 2s 4ms/step - loss: 0.0304 - accuracy: 0.9919 - val_loss: 0.1244 - val_accuracy: 0.9684\n",
            "Epoch 26/50\n",
            "480/480 [==============================] - 2s 4ms/step - loss: 0.0289 - accuracy: 0.9922 - val_loss: 0.1252 - val_accuracy: 0.9684\n",
            "Epoch 27/50\n",
            "480/480 [==============================] - 2s 4ms/step - loss: 0.0264 - accuracy: 0.9926 - val_loss: 0.1276 - val_accuracy: 0.9678\n",
            "Epoch 28/50\n",
            "480/480 [==============================] - 2s 4ms/step - loss: 0.0257 - accuracy: 0.9932 - val_loss: 0.1280 - val_accuracy: 0.9675\n",
            "Epoch 29/50\n",
            "480/480 [==============================] - 2s 4ms/step - loss: 0.0245 - accuracy: 0.9938 - val_loss: 0.1254 - val_accuracy: 0.9694\n",
            "Epoch 30/50\n",
            "480/480 [==============================] - 2s 4ms/step - loss: 0.0223 - accuracy: 0.9943 - val_loss: 0.1334 - val_accuracy: 0.9674\n",
            "Epoch 31/50\n",
            "480/480 [==============================] - 2s 4ms/step - loss: 0.0213 - accuracy: 0.9949 - val_loss: 0.1347 - val_accuracy: 0.9670\n",
            "Epoch 32/50\n",
            "480/480 [==============================] - 2s 4ms/step - loss: 0.0202 - accuracy: 0.9949 - val_loss: 0.1407 - val_accuracy: 0.9665\n",
            "Epoch 33/50\n",
            "480/480 [==============================] - 2s 4ms/step - loss: 0.0188 - accuracy: 0.9951 - val_loss: 0.1369 - val_accuracy: 0.9685\n",
            "Epoch 34/50\n",
            "480/480 [==============================] - 2s 4ms/step - loss: 0.0179 - accuracy: 0.9955 - val_loss: 0.1379 - val_accuracy: 0.9671\n",
            "Epoch 35/50\n",
            "480/480 [==============================] - 2s 4ms/step - loss: 0.0170 - accuracy: 0.9958 - val_loss: 0.1410 - val_accuracy: 0.9677\n",
            "Epoch 36/50\n",
            "480/480 [==============================] - 2s 4ms/step - loss: 0.0157 - accuracy: 0.9962 - val_loss: 0.1441 - val_accuracy: 0.9671\n",
            "Epoch 37/50\n",
            "480/480 [==============================] - 2s 4ms/step - loss: 0.0152 - accuracy: 0.9961 - val_loss: 0.1481 - val_accuracy: 0.9672\n",
            "Epoch 38/50\n",
            "480/480 [==============================] - 2s 4ms/step - loss: 0.0143 - accuracy: 0.9967 - val_loss: 0.1431 - val_accuracy: 0.9682\n",
            "Epoch 39/50\n",
            "480/480 [==============================] - 2s 4ms/step - loss: 0.0135 - accuracy: 0.9968 - val_loss: 0.1532 - val_accuracy: 0.9664\n",
            "Epoch 40/50\n",
            "480/480 [==============================] - 2s 4ms/step - loss: 0.0125 - accuracy: 0.9971 - val_loss: 0.1502 - val_accuracy: 0.9672\n",
            "Epoch 41/50\n",
            "480/480 [==============================] - 2s 4ms/step - loss: 0.0117 - accuracy: 0.9974 - val_loss: 0.1545 - val_accuracy: 0.9670\n",
            "Epoch 42/50\n",
            "480/480 [==============================] - 2s 4ms/step - loss: 0.0113 - accuracy: 0.9975 - val_loss: 0.1527 - val_accuracy: 0.9680\n",
            "Epoch 43/50\n",
            "480/480 [==============================] - 2s 4ms/step - loss: 0.0104 - accuracy: 0.9976 - val_loss: 0.1601 - val_accuracy: 0.9668\n",
            "Epoch 44/50\n",
            "480/480 [==============================] - 2s 4ms/step - loss: 0.0097 - accuracy: 0.9980 - val_loss: 0.1558 - val_accuracy: 0.9681\n",
            "Epoch 45/50\n",
            "480/480 [==============================] - 2s 4ms/step - loss: 0.0094 - accuracy: 0.9979 - val_loss: 0.1682 - val_accuracy: 0.9660\n",
            "Epoch 46/50\n",
            "480/480 [==============================] - 2s 4ms/step - loss: 0.0089 - accuracy: 0.9981 - val_loss: 0.1595 - val_accuracy: 0.9682\n",
            "Epoch 47/50\n",
            "480/480 [==============================] - 2s 4ms/step - loss: 0.0082 - accuracy: 0.9981 - val_loss: 0.1650 - val_accuracy: 0.9664\n",
            "Epoch 48/50\n",
            "480/480 [==============================] - 2s 4ms/step - loss: 0.0074 - accuracy: 0.9986 - val_loss: 0.1659 - val_accuracy: 0.9671\n",
            "Epoch 49/50\n",
            "480/480 [==============================] - 2s 4ms/step - loss: 0.0070 - accuracy: 0.9985 - val_loss: 0.1668 - val_accuracy: 0.9672\n",
            "Epoch 50/50\n",
            "480/480 [==============================] - 2s 4ms/step - loss: 0.0066 - accuracy: 0.9984 - val_loss: 0.1728 - val_accuracy: 0.9671\n"
          ]
        },
        {
          "output_type": "execute_result",
          "data": {
            "text/plain": [
              "<keras.callbacks.History at 0x7fdd99056c50>"
            ]
          },
          "metadata": {},
          "execution_count": 34
        }
      ]
    },
    {
      "cell_type": "markdown",
      "metadata": {
        "id": "gqF6EQUuwb5f"
      },
      "source": [
        "## **6. Model Testing**"
      ]
    },
    {
      "cell_type": "code",
      "metadata": {
        "colab": {
          "base_uri": "https://localhost:8080/"
        },
        "id": "D37-qb-KuVzz",
        "outputId": "63774328-92dd-421f-8540-ac9fd547d9ea"
      },
      "source": [
        "model.evaluate(X_test,y_test)"
      ],
      "execution_count": 35,
      "outputs": [
        {
          "output_type": "stream",
          "name": "stdout",
          "text": [
            "313/313 [==============================] - 1s 4ms/step - loss: 0.1501 - accuracy: 0.9713\n"
          ]
        },
        {
          "output_type": "execute_result",
          "data": {
            "text/plain": [
              "[0.1501166969537735, 0.9713000059127808]"
            ]
          },
          "metadata": {},
          "execution_count": 35
        }
      ]
    },
    {
      "cell_type": "markdown",
      "metadata": {
        "id": "Y6-CFW8XwyJ9"
      },
      "source": [
        ""
      ]
    },
    {
      "cell_type": "code",
      "metadata": {
        "colab": {
          "base_uri": "https://localhost:8080/",
          "height": 282
        },
        "id": "QUkcjtcIwy4N",
        "outputId": "2530adf9-bbe5-4956-add8-42a337f93f11"
      },
      "source": [
        "plt.imshow(X_test[10])"
      ],
      "execution_count": 39,
      "outputs": [
        {
          "output_type": "execute_result",
          "data": {
            "text/plain": [
              "<matplotlib.image.AxesImage at 0x7fde10055110>"
            ]
          },
          "metadata": {},
          "execution_count": 39
        },
        {
          "output_type": "display_data",
          "data": {
            "image/png": "[encoded data removed]",
            "text/plain": [
              "<Figure size 432x288 with 1 Axes>"
            ]
          },
          "metadata": {
            "needs_background": "light"
          }
        }
      ]
    },
    {
      "cell_type": "code",
      "metadata": {
        "colab": {
          "base_uri": "https://localhost:8080/"
        },
        "id": "s0uEfnRowXIi",
        "outputId": "7fcfa93d-ec52-4c47-db0f-2015b79d19c0"
      },
      "source": [
        "import numpy as np\n",
        "prediction = model.predict(X_test)\n",
        "prediction\n",
        "print(np.argmax(prediction[10]))"
      ],
      "execution_count": 40,
      "outputs": [
        {
          "output_type": "stream",
          "name": "stdout",
          "text": [
            "0\n"
          ]
        }
      ]
    },
    {
      "cell_type": "code",
      "metadata": {
        "id": "tLJtvA9Xw9kj"
      },
      "source": [
        ""
      ],
      "execution_count": null,
      "outputs": []
    }
  ]
}